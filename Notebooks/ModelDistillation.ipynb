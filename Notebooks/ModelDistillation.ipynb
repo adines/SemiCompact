{
  "nbformat": 4,
  "nbformat_minor": 0,
  "metadata": {
    "colab": {
      "provenance": [],
      "machine_shape": "hm",
      "include_colab_link": true
    },
    "kernelspec": {
      "display_name": "Python 3",
      "name": "python3"
    },
    "language_info": {
      "codemirror_mode": {
        "name": "ipython",
        "version": 3
      },
      "file_extension": ".py",
      "mimetype": "text/x-python",
      "name": "python",
      "nbconvert_exporter": "python",
      "pygments_lexer": "ipython3",
      "version": "3.6.4"
    }
  },
  "cells": [
    {
      "cell_type": "markdown",
      "metadata": {
        "id": "view-in-github",
        "colab_type": "text"
      },
      "source": [
        "<a href=\"https://colab.research.google.com/github/adines/SemiCompact/blob/main/Notebooks/ModelDistillation.ipynb\" target=\"_parent\"><img src=\"https://colab.research.google.com/assets/colab-badge.svg\" alt=\"Open In Colab\"/></a>"
      ]
    },
    {
      "cell_type": "markdown",
      "metadata": {
        "id": "V9zNGvape2-I"
      },
      "source": [
        "# **Bioimage Model Zoo Model Distillation**"
      ]
    },
    {
      "cell_type": "markdown",
      "metadata": {
        "id": "jWAz2i7RdxUV"
      },
      "source": [
        "# **Creator of the notebook**\n",
        "The creator of this notebook is Adrián Inés, from the University of La Rioja. For any questions or queries you can contact via email adrian.ines@unirioja.es.\n",
        "\n",
        "\n",
        "# **How to use this notebook?**\n",
        "\n",
        "---\n",
        "\n",
        "<font size = 4>Video describing how to use our notebooks are available on youtube:\n",
        "  - [**Video 1**](https://www.youtube.com/watch?v=GzD2gamVNHI&feature=youtu.be): Full run through of the workflow to obtain the notebooks and the provided test datasets as well as a common use of the notebook\n",
        "  - [**Video 2**](https://www.youtube.com/watch?v=PUuQfP5SsqM&feature=youtu.be): Detailed description of the different sections of the notebook\n",
        "\n",
        "\n",
        "---\n",
        "###**Structure of a notebook**\n",
        "\n",
        "<font size = 4>The notebook contains two types of cell:  \n",
        "\n",
        "<font size = 4>**Text cells** provide information and can be modified by douple-clicking the cell. You are currently reading the text cell. You can create a new text by clicking `+ Text`.\n",
        "\n",
        "<font size = 4>**Code cells** contain code and the code can be modfied by selecting the cell. To execute the cell, move your cursor on the `[ ]`-mark on the left side of the cell (play button appears). Click to execute the cell. After execution is done the animation of play button stops. You can create a new coding cell by clicking `+ Code`.\n",
        "\n",
        "---\n",
        "###**Table of contents, Code snippets** and **Files**\n",
        "\n",
        "<font size = 4>On the top left side of the notebook you find three tabs which contain from top to bottom:\n",
        "\n",
        "<font size = 4>*Table of contents* = contains structure of the notebook. Click the content to move quickly between sections.\n",
        "\n",
        "<font size = 4>*Code snippets* = contain examples how to code certain tasks. You can ignore this when using this notebook.\n",
        "\n",
        "<font size = 4>*Files* = contain all available files. After mounting your google drive (see section 1.) you will find your files and folders here. \n",
        "\n",
        "<font size = 4>**Remember that all uploaded files are purged after changing the runtime.** All files saved in Google Drive will remain. You do not need to use the Mount Drive-button; your Google Drive is connected in section 1.2.\n",
        "\n",
        "<font size = 4>**Note:** The \"sample data\" in \"Files\" contains default files. Do not upload anything in here!\n",
        "\n",
        "---\n",
        "###**Making changes to the notebook**\n",
        "\n",
        "<font size = 4>**You can make a copy** of the notebook and save it to your Google Drive. To do this click file -> save a copy in drive.\n",
        "\n",
        "<font size = 4>To **edit a cell**, double click on the text. This will show you either the source code (in code cells) or the source text (in text cells).\n",
        "You can use the `#`-mark in code cells to comment out parts of the code. This allows you to keep the original code piece in the cell as a comment."
      ]
    },
    {
      "cell_type": "markdown",
      "metadata": {
        "id": "vNMDQHm0Ah-Z"
      },
      "source": [
        "#**0. Before getting started**\n",
        "---\n",
        "<font size = 4> To use this notebook, pay attention to the data structure. The dataset you want to use need to be organised in separate folders for each class.\n",
        "\n",
        "<font size = 4>Here's a common data structure that can work:\n",
        "*   PathDataset\n",
        "    - **train**\n",
        "        - class 1\n",
        "            - img_1.tif, img_2.tif, ...\n",
        "        - class 2\n",
        "            - img_1.tif, img_2.tif, ...\n",
        "        - class 3\n",
        "            - img_1.tif, img_2.tif, ... \n",
        "    - **valid**\n",
        "        - class 1\n",
        "            - img_1.tif, img_2.tif, ...\n",
        "        - class 2\n",
        "            - img_1.tif, img_2.tif, ...\n",
        "        - class 3\n",
        "            - img_1.tif, img_2.tif, ...        \n",
        "    - **unlabeled_images**\n",
        "        - img_1.tif, img_2.tif, ...\n",
        "        \n",
        "---"
      ]
    },
    {
      "cell_type": "markdown",
      "metadata": {
        "id": "b4-r1gE7Iamv"
      },
      "source": [
        "# **1. Initialise the Colab session**\n",
        "---"
      ]
    },
    {
      "cell_type": "markdown",
      "metadata": {
        "id": "n4yWFoJNnoin"
      },
      "source": [
        "# **1.1. Install the dependencies**\n",
        "---\n"
      ]
    },
    {
      "cell_type": "code",
      "source": [
        "#@markdown ##Install the dependencies\n",
        "\n",
        "!pip install bioimageio.core -Uq\n",
        "!pip install compact-distillation -Uq\n",
        "\n",
        "print(\"Libraries installed\")"
      ],
      "metadata": {
        "id": "GXVvTMhiG1nd",
        "cellView": "form"
      },
      "execution_count": null,
      "outputs": []
    },
    {
      "cell_type": "code",
      "metadata": {
        "id": "3u2mXn3XsWzd",
        "cellView": "form"
      },
      "source": [
        "#@markdown ##Load libraries\n",
        "\n",
        "# ------- the imports for Distillation API -------\n",
        "import warnings\n",
        "warnings.filterwarnings('ignore')\n",
        "\n",
        "import numpy as np\n",
        "import os, random\n",
        "import shutil \n",
        "import distillation\n",
        "\n",
        "import hashlib\n",
        "\n",
        "# ------- the imports for bioimage.io model export -------\n",
        "import bioimageio.core\n",
        "import numpy as np\n",
        "import torch\n",
        "import torch.nn as nn\n",
        "from bioimageio.core.build_spec import build_model, add_weights\n",
        "from bioimageio.core.resource_tests import test_model\n",
        "\n",
        "# ------- the imports for fastai -------\n",
        "from fastai.vision.all import *\n",
        "import fastai\n",
        "\n",
        "\n",
        "# Colors for the warning messages\n",
        "class bcolors:\n",
        "  WARNING = '\\033[31m'\n",
        "\n",
        "W  = '\\033[0m'  # white (normal)\n",
        "R  = '\\033[31m' # red\n",
        "\n",
        "print(\"[Libraries have been loaded]\")"
      ],
      "execution_count": null,
      "outputs": []
    },
    {
      "cell_type": "markdown",
      "metadata": {
        "id": "-oqBTeLaImnU"
      },
      "source": [
        "## **1.2. Mount your Google Drive**\n",
        "---\n",
        "<font size = 4> To use this notebook on the data present in your Google Drive, you need to mount your Google Drive to this notebook.\n",
        "\n",
        "<font size = 4> Play the cell below to mount your Google Drive and follow the link. In the new browser window, select your drive and select 'Allow', copy the code, paste into the cell and press enter. This will give Colab access to the data on the drive. \n",
        "\n",
        "<font size = 4> Once this is done, your data are available in the **Files** tab on the top left of notebook."
      ]
    },
    {
      "cell_type": "code",
      "metadata": {
        "id": "01Djr8v-5pPk",
        "cellView": "form"
      },
      "source": [
        "\n",
        "#@markdown ##Run this cell to connect your Google Drive to Colab\n",
        "\n",
        "#@markdown * Click on the URL. \n",
        "\n",
        "#@markdown * Sign in your Google Account. \n",
        "\n",
        "#@markdown * Copy the authorization code. \n",
        "\n",
        "#@markdown * Enter the authorization code. \n",
        "\n",
        "#@markdown * Click on \"Files\" site on the right. Refresh the site. Your Google Drive folder should now be available here as \"drive\". \n",
        "\n",
        "#mounts user's Google Drive to Google Colab.\n",
        "\n",
        "from google.colab import drive\n",
        "drive.mount('/content/gdrive')\n",
        "\n",
        "\n"
      ],
      "execution_count": null,
      "outputs": []
    },
    {
      "cell_type": "markdown",
      "metadata": {
        "id": "Fw0kkTU6CsU4"
      },
      "source": [
        "# **2. Train the model with Model Distillation**\n",
        "\n",
        "---\n"
      ]
    },
    {
      "cell_type": "markdown",
      "metadata": {
        "id": "biT9FI9Ri77_"
      },
      "source": [
        "In this section we are going to train a deep learning model using our dataset in which we have both labeled images and unlabeled images. For this we are going to use a semi-supervised learning method. Specifically, we will use a model distillation approach.\n",
        "\n",
        "<font size = 4>**Semi-supervised methods** \n",
        "\n",
        "Semi-supervised learning methods are learning methods that use both labelled and unlabelled data, whereas self-supervised methods use only unlabelled data. In particular semi-supervised methods are an approach that in general (1) defines a base\n",
        "model that is trained on labelled data, (2) uses the model to predict labels for unla-\n",
        "belled data, and, finally, (3) initialise a model with the weights learned in (1), and (4)\n",
        "retrains the model with both the most confident predictions produced in (2) and the\n",
        "initial data; thus, enlarging the labelled training set. Semi-supervised learning meth-\n",
        "ods can be grouped into three main types: self-training, consistency regularisation and\n",
        "hybrid methods.\n",
        "\n",
        "<font size = 4>**Self-training methods** \n",
        "\n",
        "Self-training is a basic approach that (1) defines a base model that is trained on\n",
        "labelled data, (2) uses the model to predict labels for unlabelled data, and, finally, (3) retrains the model with the most confident predictions produced in (2); thus, enlarging the labelled training set. In a variant of self-training called distillation, a big model is used for (1) and (2), whereas a faster and smaller model than the model trained in (1) is employed in (3).\n",
        "\n",
        "## **Model Distillation**\n",
        "---\n",
        "\n",
        "Model distillation is a form of self-training, a special kind of semi-supervised learning technique. Specifically, in model distillation, several models are employed to obtain predictions of unlabelled data; subsequently, those predictions are ensembled, and used to train a new model.\n",
        "\n",
        "In our case we allow any type of combination of networks between the first and the second step.\n"
      ]
    },
    {
      "cell_type": "code",
      "metadata": {
        "id": "WLU4V3Er5leQ",
        "cellView": "form"
      },
      "source": [
        "#@markdown ##Where is the data?\n",
        "PathDataset = \"\" #@param{type:\"string\"}\n",
        "\n",
        "\n",
        "#@markdown ##Choose the base models to use\n",
        "ResNet18 = False #@param {type:\"boolean\"}\n",
        "ResNet50 = False #@param {type:\"boolean\"}\n",
        "ResNet101 = False #@param {type:\"boolean\"}\n",
        "EfficientNet = False #@param {type:\"boolean\"}\n",
        "FBNet = False #@param {type:\"boolean\"}\n",
        "MixNet = False #@param {type:\"boolean\"}\n",
        "MNasNet = False #@param {type:\"boolean\"}\n",
        "MobileNet = False #@param {type:\"boolean\"}\n",
        "SqueezeNet = False #@param {type:\"boolean\"}\n",
        "ShuffleNet = False #@param {type:\"boolean\"}\n",
        "\n",
        "\n",
        "#@markdown ##Choose the target model to use\n",
        "TargetModel = \"MixNet\" #@param ['ResNet18','ResNet50','ResNet101','EfficientNet','FBNet','MixNet','MNasNet','MobileNet','SqueezeNet','ShuffleNet']\n",
        "\n",
        "\n",
        "#@markdown ##Choose training parameters\n",
        "\n",
        "BatschSize = 32 #@param {type:\"integer\"}\n",
        "\n",
        "ImageSize = 224 #@param{type:\"integer\"}\n",
        "\n",
        "Confidence = 0.8 #@param {type:\"slider\", min:0, max:1, step:0.1}\n",
        "\n",
        "BaseModels=[]\n",
        "\n",
        "if ResNet18: BaseModels.append('ResNet18')\n",
        "if ResNet50: BaseModels.append('ResNet50')\n",
        "if ResNet101: BaseModels.append('ResNet101')\n",
        "if EfficientNet: BaseModels.append('EfficientNet')\n",
        "if FBNet: BaseModels.append('FBNet')\n",
        "if MixNet: BaseModels.append('MixNet')\n",
        "if MNasNet: BaseModels.append('MNasNet')\n",
        "if MobileNet: BaseModels.append('MobileNet')\n",
        "if SqueezeNet: BaseModels.append('SqueezeNet')\n",
        "if ShuffleNet: BaseModels.append('ShuffleNet')\n",
        "\n",
        "\n",
        "OutputPath=PathDataset+os.sep+'models'+os.sep+'outputModel'\n",
        "if not os.path.exists(OutputPath):\n",
        "  os.makedirs(OutputPath)\n",
        "\n",
        "print(\"Start of training\")\n",
        "# Create a quality control in the Prediction Folder\n",
        "distillation.modelDistillation(BaseModels, TargetModel, PathDataset, PathDataset+os.sep+'unlabeled_images', OutputPath, BatschSize, ImageSize, Confidence);\n"
      ],
      "execution_count": null,
      "outputs": []
    },
    {
      "cell_type": "markdown",
      "metadata": {
        "id": "Shum2WdMfVLt"
      },
      "source": [
        "# **3. Model Information**\n",
        "---\n",
        "\n",
        "In this section we are going to fill in the information of our model so that it can be included in the [Bioimage Model Zoo](https://bioimage.io/#/).\n"
      ]
    },
    {
      "cell_type": "code",
      "source": [
        "#@markdown ##Enter the model name\n",
        "ModelName = \"\" #@param{type:\"string\"}\n",
        "\n",
        "#@markdown ##Enter the model description\n",
        "ModelDescription = \"\" #@param {type:\"string\"}\n",
        "\n",
        "ModelDocumentation= \"Enter a path to a .md file\" #@param {type:\"string\"}\n",
        "\n",
        "#@markdown ##Enter the author's information\n",
        "Name = \"\" #@param {type:\"string\"}\n",
        "Affiliation = \"\" #@param {type:\"string\"}\n",
        "GithubUser = \"\" #@param {type:\"string\"}\n",
        "Orcid = \"\" #@param {type:\"string\"}\n",
        "\n",
        "#@markdown ##Enter the license (A  [SPDX license identifier](https://spdx.org/licenses/))\n",
        "License = \"CC-BY-4.0\" #@param {type:\"string\"}\n",
        "\n",
        "#@markdown ##Enter the tags of the model separated by semicolons\n",
        "Tags= \"Classification; mixnet; blindness\" #@param {type:\"string\"}\n",
        "\n",
        "#@markdown ##Do you want to add a citation?\n",
        "CitationText= \"\" #@param {type:\"string\"}\n",
        "DOI = \"\" #@param {type:\"string\"}\n",
        "URL = \"\" #@param {type:\"string\"}\n",
        "\n",
        "\n",
        "\n",
        "\n",
        "path=LabeledData\n",
        "bs=BatschSize\n",
        "size=ImageSize\n",
        "\n",
        "model=distillation.utils.getModel(TargetModel)\n",
        "\n",
        "data_fast=ImageDataLoaders.from_folder(path,batch_tfms=aug_transforms(),item_tfms=Resize(size),bs=bs,device='cuda')\n",
        "\n",
        "learner=cnn_learner(data_fast,model,metrics=[accuracy,Precision(average='macro'),Recall(average='macro'),F1Score(average='macro')])\n",
        "learner.load(OutputPath+os.sep+'target_'+TargetModel+'.pth',device='cpu')\n",
        "\n",
        "x,_ = data_fast.one_batch()\n",
        "learner.model.cuda()\n",
        "learner.model.eval()\n",
        "\n",
        "\n",
        "x_mod=x.cpu().detach().numpy()[0]\n",
        "x_mod2=np.expand_dims(x_mod, axis=0)\n",
        "\n",
        "\n",
        "out=learner.model(x).cpu().detach().numpy()[0]\n",
        "out_mod=np.expand_dims(out, axis=0)\n",
        "\n",
        "\n",
        "np.save(\"test-input.npy\", x_mod2)\n",
        "np.save(\"test-output.npy\",out_mod)\n",
        "\n",
        "@patch\n",
        "def requires_grad_(self:TensorBase, requires_grad=True):\n",
        "    self.requires_grad = requires_grad\n",
        "    return self\n",
        "\n",
        "torch.jit.save(torch.jit.trace(learner.model, x), 'model.pt')\n",
        "\n",
        "if not os.path.isfile(ModelDocumentation):\n",
        "  print(ModelDocumentation+' is not a .md file')\n",
        "\n",
        "\n",
        "\n",
        "author={}\n",
        "if Name!=\"\":\n",
        "  author['name']=Name\n",
        "if Affiliation!=\"\":\n",
        "  author['affiliation']=Affiliation\n",
        "if GithubUser!=\"\":\n",
        "  author['github_user']=GithubUser\n",
        "if Orcid!=\"\":\n",
        "  author['orcid']=Orcid\n",
        "\n",
        "if Tags!=\"\":\n",
        "  tags=Tags.split(';')\n",
        "  for tag in tags:\n",
        "    tag=tag.strip()\n",
        "\n",
        "citation={}\n",
        "if CitationText!=\"\":\n",
        "  citation['text']=CitationText\n",
        "if DOI!=\"\":\n",
        "  citation['doi']=DOI\n",
        "if URL!=\"\":\n",
        "  citation['url']=URL\n",
        "\n",
        "citations=[citation]\n",
        "\n",
        "build_model(\n",
        "    # the weight file and the type of the weights\n",
        "    weight_uri=\"model.pt\",\n",
        "    weight_type=\"torchscript\",\n",
        "    # the test input and output data as well as the description of the tensors\n",
        "    # these are passed as list because we support multiple inputs / outputs per model\n",
        "    test_inputs=[\"test-input.npy\"],\n",
        "    test_outputs=[\"test-output.npy\"],\n",
        "    input_axes=[\"bcyx\"],\n",
        "    output_axes=[\"by\"],\n",
        "    # where to save the model zip, how to call the model and a short description of it\n",
        "    output_path=\"model.zip\",\n",
        "    name=ModelName,\n",
        "    description=ModelDescription,\n",
        "    # additional metadata about authors, licenses, citation etc.\n",
        "    authors=[author],\n",
        "    license=License,\n",
        "    documentation=ModelDocumentation,\n",
        "    tags=tags,  # the tags are used to make models more findable on the website\n",
        "    cite=citations,\n",
        "    # sample_inputs=['02da652c74b8.tiff'],\n",
        "    # test_inputs='blindness/images/0/005b95c28852.png',\n",
        "    # n_inputs=1,\n",
        "    # n_outputs=1,\n",
        "    # sample_outputs=['02da652c74b8.tiff'],\n",
        "    # test_outputs='0',\n",
        "    # add_deepimagej_config=True\n",
        ")"
      ],
      "metadata": {
        "id": "lt2yJj4MlBTj",
        "cellView": "form"
      },
      "execution_count": null,
      "outputs": []
    },
    {
      "cell_type": "markdown",
      "source": [
        "# **4. Test the model**\n",
        "\n",
        "Now we can check if the built model is correct to be uploaded to the Bioimage Model Zoo. "
      ],
      "metadata": {
        "id": "kozEbVkEGwab"
      }
    },
    {
      "cell_type": "code",
      "source": [
        "#@markdown ##<font color=orange>Test the model\n",
        "\n",
        "\n",
        "my_model = bioimageio.core.load_resource_description(\"model.zip\") \n",
        "test_model(my_model)"
      ],
      "metadata": {
        "cellView": "form",
        "id": "au1uUIholrXL"
      },
      "execution_count": null,
      "outputs": []
    }
  ]
}