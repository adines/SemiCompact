{
  "nbformat": 4,
  "nbformat_minor": 0,
  "metadata": {
    "colab": {
      "name": "MelanomaResnet50",
      "provenance": []
    },
    "kernelspec": {
      "name": "python3",
      "display_name": "Python 3"
    }
  },
  "cells": [
    {
      "cell_type": "markdown",
      "metadata": {
        "id": "Hc_UJxt75a3Y"
      },
      "source": [
        "# Preparación"
      ]
    },
    {
      "cell_type": "markdown",
      "metadata": {
        "id": "e3Gcr6yc5Ky_"
      },
      "source": [
        "Actualizamos la librería de Fastai a Fastai 2 y reiniciamos el entorno de ejecución"
      ]
    },
    {
      "cell_type": "code",
      "metadata": {
        "id": "Xuyiw06i3kiy",
        "outputId": "c903ba32-6b62-4d0d-d394-8125479cc60a",
        "colab": {
          "base_uri": "https://localhost:8080/",
          "height": 952
        }
      },
      "source": [
        "!pip install -U fastai"
      ],
      "execution_count": null,
      "outputs": [
        {
          "output_type": "stream",
          "text": [
            "Collecting fastai\n",
            "\u001b[?25l  Downloading https://files.pythonhosted.org/packages/98/2e/d4dcc69f67b4557c8543a4c65d3e136b1929b01136b227ceb986e2596825/fastai-2.0.15-py3-none-any.whl (185kB)\n",
            "\r\u001b[K     |█▊                              | 10kB 9.5MB/s eta 0:00:01\r\u001b[K     |███▌                            | 20kB 1.8MB/s eta 0:00:01\r\u001b[K     |█████▎                          | 30kB 2.2MB/s eta 0:00:01\r\u001b[K     |███████                         | 40kB 2.5MB/s eta 0:00:01\r\u001b[K     |████████▉                       | 51kB 2.0MB/s eta 0:00:01\r\u001b[K     |██████████▋                     | 61kB 2.3MB/s eta 0:00:01\r\u001b[K     |████████████▍                   | 71kB 2.6MB/s eta 0:00:01\r\u001b[K     |██████████████▏                 | 81kB 2.8MB/s eta 0:00:01\r\u001b[K     |████████████████                | 92kB 2.9MB/s eta 0:00:01\r\u001b[K     |█████████████████▊              | 102kB 2.8MB/s eta 0:00:01\r\u001b[K     |███████████████████▌            | 112kB 2.8MB/s eta 0:00:01\r\u001b[K     |█████████████████████▏          | 122kB 2.8MB/s eta 0:00:01\r\u001b[K     |███████████████████████         | 133kB 2.8MB/s eta 0:00:01\r\u001b[K     |████████████████████████▊       | 143kB 2.8MB/s eta 0:00:01\r\u001b[K     |██████████████████████████▌     | 153kB 2.8MB/s eta 0:00:01\r\u001b[K     |████████████████████████████▎   | 163kB 2.8MB/s eta 0:00:01\r\u001b[K     |██████████████████████████████  | 174kB 2.8MB/s eta 0:00:01\r\u001b[K     |███████████████████████████████▉| 184kB 2.8MB/s eta 0:00:01\r\u001b[K     |████████████████████████████████| 194kB 2.8MB/s \n",
            "\u001b[?25hRequirement already satisfied, skipping upgrade: pip in /usr/local/lib/python3.6/dist-packages (from fastai) (19.3.1)\n",
            "Requirement already satisfied, skipping upgrade: scikit-learn in /usr/local/lib/python3.6/dist-packages (from fastai) (0.22.2.post1)\n",
            "Requirement already satisfied, skipping upgrade: matplotlib in /usr/local/lib/python3.6/dist-packages (from fastai) (3.2.2)\n",
            "Collecting fastcore>=1.0.5\n",
            "\u001b[?25l  Downloading https://files.pythonhosted.org/packages/8e/4f/dc306a98a16a2c2c83d04636387e2945e19f8693ca8bce11bc147107d3bb/fastcore-1.0.20-py3-none-any.whl (41kB)\n",
            "\u001b[K     |████████████████████████████████| 51kB 6.5MB/s \n",
            "\u001b[?25hRequirement already satisfied, skipping upgrade: scipy in /usr/local/lib/python3.6/dist-packages (from fastai) (1.4.1)\n",
            "Requirement already satisfied, skipping upgrade: packaging in /usr/local/lib/python3.6/dist-packages (from fastai) (20.4)\n",
            "Requirement already satisfied, skipping upgrade: spacy in /usr/local/lib/python3.6/dist-packages (from fastai) (2.2.4)\n",
            "Requirement already satisfied, skipping upgrade: pandas in /usr/local/lib/python3.6/dist-packages (from fastai) (1.1.2)\n",
            "Requirement already satisfied, skipping upgrade: fastprogress>=0.2.4 in /usr/local/lib/python3.6/dist-packages (from fastai) (1.0.0)\n",
            "Requirement already satisfied, skipping upgrade: torch>=1.6.0 in /usr/local/lib/python3.6/dist-packages (from fastai) (1.6.0+cu101)\n",
            "Requirement already satisfied, skipping upgrade: torchvision>=0.7 in /usr/local/lib/python3.6/dist-packages (from fastai) (0.7.0+cu101)\n",
            "Requirement already satisfied, skipping upgrade: pillow in /usr/local/lib/python3.6/dist-packages (from fastai) (7.0.0)\n",
            "Requirement already satisfied, skipping upgrade: pyyaml in /usr/local/lib/python3.6/dist-packages (from fastai) (3.13)\n",
            "Requirement already satisfied, skipping upgrade: requests in /usr/local/lib/python3.6/dist-packages (from fastai) (2.23.0)\n",
            "Requirement already satisfied, skipping upgrade: numpy>=1.11.0 in /usr/local/lib/python3.6/dist-packages (from scikit-learn->fastai) (1.18.5)\n",
            "Requirement already satisfied, skipping upgrade: joblib>=0.11 in /usr/local/lib/python3.6/dist-packages (from scikit-learn->fastai) (0.16.0)\n",
            "Requirement already satisfied, skipping upgrade: cycler>=0.10 in /usr/local/lib/python3.6/dist-packages (from matplotlib->fastai) (0.10.0)\n",
            "Requirement already satisfied, skipping upgrade: pyparsing!=2.0.4,!=2.1.2,!=2.1.6,>=2.0.1 in /usr/local/lib/python3.6/dist-packages (from matplotlib->fastai) (2.4.7)\n",
            "Requirement already satisfied, skipping upgrade: python-dateutil>=2.1 in /usr/local/lib/python3.6/dist-packages (from matplotlib->fastai) (2.8.1)\n",
            "Requirement already satisfied, skipping upgrade: kiwisolver>=1.0.1 in /usr/local/lib/python3.6/dist-packages (from matplotlib->fastai) (1.2.0)\n",
            "Requirement already satisfied, skipping upgrade: six in /usr/local/lib/python3.6/dist-packages (from packaging->fastai) (1.15.0)\n",
            "Requirement already satisfied, skipping upgrade: thinc==7.4.0 in /usr/local/lib/python3.6/dist-packages (from spacy->fastai) (7.4.0)\n",
            "Requirement already satisfied, skipping upgrade: tqdm<5.0.0,>=4.38.0 in /usr/local/lib/python3.6/dist-packages (from spacy->fastai) (4.41.1)\n",
            "Requirement already satisfied, skipping upgrade: blis<0.5.0,>=0.4.0 in /usr/local/lib/python3.6/dist-packages (from spacy->fastai) (0.4.1)\n",
            "Requirement already satisfied, skipping upgrade: setuptools in /usr/local/lib/python3.6/dist-packages (from spacy->fastai) (50.3.0)\n",
            "Requirement already satisfied, skipping upgrade: murmurhash<1.1.0,>=0.28.0 in /usr/local/lib/python3.6/dist-packages (from spacy->fastai) (1.0.2)\n",
            "Requirement already satisfied, skipping upgrade: plac<1.2.0,>=0.9.6 in /usr/local/lib/python3.6/dist-packages (from spacy->fastai) (1.1.3)\n",
            "Requirement already satisfied, skipping upgrade: cymem<2.1.0,>=2.0.2 in /usr/local/lib/python3.6/dist-packages (from spacy->fastai) (2.0.3)\n",
            "Requirement already satisfied, skipping upgrade: catalogue<1.1.0,>=0.0.7 in /usr/local/lib/python3.6/dist-packages (from spacy->fastai) (1.0.0)\n",
            "Requirement already satisfied, skipping upgrade: wasabi<1.1.0,>=0.4.0 in /usr/local/lib/python3.6/dist-packages (from spacy->fastai) (0.8.0)\n",
            "Requirement already satisfied, skipping upgrade: preshed<3.1.0,>=3.0.2 in /usr/local/lib/python3.6/dist-packages (from spacy->fastai) (3.0.2)\n",
            "Requirement already satisfied, skipping upgrade: srsly<1.1.0,>=1.0.2 in /usr/local/lib/python3.6/dist-packages (from spacy->fastai) (1.0.2)\n",
            "Requirement already satisfied, skipping upgrade: pytz>=2017.2 in /usr/local/lib/python3.6/dist-packages (from pandas->fastai) (2018.9)\n",
            "Requirement already satisfied, skipping upgrade: future in /usr/local/lib/python3.6/dist-packages (from torch>=1.6.0->fastai) (0.16.0)\n",
            "Requirement already satisfied, skipping upgrade: certifi>=2017.4.17 in /usr/local/lib/python3.6/dist-packages (from requests->fastai) (2020.6.20)\n",
            "Requirement already satisfied, skipping upgrade: urllib3!=1.25.0,!=1.25.1,<1.26,>=1.21.1 in /usr/local/lib/python3.6/dist-packages (from requests->fastai) (1.24.3)\n",
            "Requirement already satisfied, skipping upgrade: idna<3,>=2.5 in /usr/local/lib/python3.6/dist-packages (from requests->fastai) (2.10)\n",
            "Requirement already satisfied, skipping upgrade: chardet<4,>=3.0.2 in /usr/local/lib/python3.6/dist-packages (from requests->fastai) (3.0.4)\n",
            "Requirement already satisfied, skipping upgrade: importlib-metadata>=0.20; python_version < \"3.8\" in /usr/local/lib/python3.6/dist-packages (from catalogue<1.1.0,>=0.0.7->spacy->fastai) (2.0.0)\n",
            "Requirement already satisfied, skipping upgrade: zipp>=0.5 in /usr/local/lib/python3.6/dist-packages (from importlib-metadata>=0.20; python_version < \"3.8\"->catalogue<1.1.0,>=0.0.7->spacy->fastai) (3.2.0)\n",
            "Installing collected packages: fastcore, fastai\n",
            "  Found existing installation: fastai 1.0.61\n",
            "    Uninstalling fastai-1.0.61:\n",
            "      Successfully uninstalled fastai-1.0.61\n",
            "Successfully installed fastai-2.0.15 fastcore-1.0.20\n"
          ],
          "name": "stdout"
        },
        {
          "output_type": "display_data",
          "data": {
            "application/vnd.colab-display-data+json": {
              "pip_warning": {
                "packages": [
                  "fastai"
                ]
              }
            }
          },
          "metadata": {
            "tags": []
          }
        }
      ]
    },
    {
      "cell_type": "code",
      "metadata": {
        "id": "tRRwJMzV5DtM"
      },
      "source": [
        "from fastai.vision.all import *"
      ],
      "execution_count": null,
      "outputs": []
    },
    {
      "cell_type": "code",
      "metadata": {
        "id": "BLUbyDjY3wjU",
        "outputId": "ffbb98e5-0e25-45a2-946b-e1ed579056e4",
        "colab": {
          "base_uri": "https://localhost:8080/"
        }
      },
      "source": [
        "print(fastai.__version__)"
      ],
      "execution_count": null,
      "outputs": [
        {
          "output_type": "stream",
          "text": [
            "2.0.15\n"
          ],
          "name": "stdout"
        }
      ]
    },
    {
      "cell_type": "markdown",
      "metadata": {
        "id": "uAabx3ZU5pZT"
      },
      "source": [
        "# Carga de datos"
      ]
    },
    {
      "cell_type": "markdown",
      "metadata": {
        "id": "uwPu8MJO5uzf"
      },
      "source": [
        "Definimos el path donde se escuentra nuestro dataset y creamos el dataLoader. En el dataloader utilizamos el [data augmentation](https://docs.fast.ai/vision.augment#aug_transforms) por defecto de fastai.\n",
        "\n",
        "El dataset tiene que estar organizado de la siguiente forma:\n",
        "\n",
        "/path\n",
        "\n",
        "> /train\n",
        "\n",
        ">>    /0\n",
        "\n",
        ">>    /1\n",
        "\n",
        " > /valid\n",
        "\n",
        " >>   /0\n",
        " \n",
        " >>   /1"
      ]
    },
    {
      "cell_type": "code",
      "metadata": {
        "id": "VBU2G_hQFWM1"
      },
      "source": [
        "!wget https://unirioja-my.sharepoint.com/:u:/g/personal/adines_unirioja_es/EfYzuKTZEPFLo3DmDqAZM3QB8aMHvn2HKrq2ch4OK5Nh3A?download=1 -O melanoma.zip\n",
        "!unzip melanoma.zip"
      ],
      "execution_count": null,
      "outputs": []
    },
    {
      "cell_type": "code",
      "metadata": {
        "id": "6okHnjtN51ND"
      },
      "source": [
        "path=\"melanoma\""
      ],
      "execution_count": null,
      "outputs": []
    },
    {
      "cell_type": "code",
      "metadata": {
        "id": "ONHXA4f56bxj"
      },
      "source": [
        "bs=32"
      ],
      "execution_count": null,
      "outputs": []
    },
    {
      "cell_type": "code",
      "metadata": {
        "id": "5v2qp0aE6dZy"
      },
      "source": [
        "size=224"
      ],
      "execution_count": null,
      "outputs": []
    },
    {
      "cell_type": "code",
      "metadata": {
        "id": "-3qchH-A5h99"
      },
      "source": [
        "data=ImageDataLoaders.from_folder(path,batch_tfms=aug_transforms(),item_tfms=Resize(size),bs=bs)"
      ],
      "execution_count": null,
      "outputs": []
    },
    {
      "cell_type": "markdown",
      "metadata": {
        "id": "80g_Y2lYS1OV"
      },
      "source": [
        "Al estar el dataset tan poco balanceado (32500 imágenes con clase 0 y 500 con clase 1) podemos utilizar una función de pérdida con pesos. Para ello creamos una función que calcule los pesos adecuados de las clases."
      ]
    },
    {
      "cell_type": "code",
      "metadata": {
        "id": "cxerOtUv7Gfz"
      },
      "source": [
        "def get_weights(dls):\n",
        "    classes = [0,1]]\n",
        "    train_lbls = L(map(lambda x: classes[x[1]], dls.train_ds))\n",
        "    label_counter = Counter(train_lbls)\n",
        "    n_most_common_class = max(label_counter.values()); \n",
        "    print(f'Occurrences of the most common class {n_most_common_class}')\n",
        "    \n",
        "    weights = [n_most_common_class/v for k, v in label_counter.items() if v > 0]\n",
        "    return weights "
      ],
      "execution_count": null,
      "outputs": []
    },
    {
      "cell_type": "code",
      "metadata": {
        "id": "htENPzoE7VSI"
      },
      "source": [
        "weights = get_weights(data) \n",
        "class_weights = torch.FloatTensor(weights).to(data.device)"
      ],
      "execution_count": null,
      "outputs": []
    },
    {
      "cell_type": "markdown",
      "metadata": {
        "id": "LfEIXpdLTm_F"
      },
      "source": [
        "Creamos el learner con la arquitetura resnet50 y le asignamos como función de pérdida una weigthed cross entropy loss."
      ]
    },
    {
      "cell_type": "code",
      "metadata": {
        "id": "SVwLET03bVl1"
      },
      "source": [
        "learn=cnn_learner(data,models.resnet50,metrics='accuracy')\n",
        "learn.loss_func = partial(F.cross_entropy, weight=class_weights)"
      ],
      "execution_count": null,
      "outputs": []
    },
    {
      "cell_type": "markdown",
      "metadata": {
        "id": "uS4R4CjTT1BD"
      },
      "source": [
        "Utilizamos la función fine-tune para entrenar el modelo. Esta función entrena la cabeza con el resto del modelo congelado, durante una etapa (este valor se puede cambiar freeze_epochs)"
      ]
    },
    {
      "cell_type": "code",
      "metadata": {
        "id": "9VyVq0zabuOd"
      },
      "source": [
        "learn.fine_tune(10)"
      ],
      "execution_count": null,
      "outputs": []
    }
  ]
}