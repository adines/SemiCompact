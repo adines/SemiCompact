{
  "nbformat": 4,
  "nbformat_minor": 0,
  "metadata": {
    "colab": {
      "name": "PreparacionDataset",
      "provenance": []
    },
    "kernelspec": {
      "name": "python3",
      "display_name": "Python 3"
    }
  },
  "cells": [
    {
      "cell_type": "code",
      "metadata": {
        "id": "UpZx6fjEdEvI"
      },
      "source": [
        "import csv\n",
        "import shutil\n",
        "import os\n",
        "import glob\n",
        "import random"
      ],
      "execution_count": null,
      "outputs": []
    },
    {
      "cell_type": "code",
      "metadata": {
        "id": "U8VJgx3lm_MS"
      },
      "source": [
        "!wget https://unirioja-my.sharepoint.com/:u:/g/personal/adines_unirioja_es/EfbduOhehpVHprlzDVBWRckBOeDFXw4ywue1sSw8X9Pncg?download=1 -O dataset.zip\n",
        "!unzip dataset.zip"
      ],
      "execution_count": null,
      "outputs": []
    },
    {
      "cell_type": "code",
      "metadata": {
        "id": "K2EP7aWRr_IT"
      },
      "source": [
        "!wget https://unirioja-my.sharepoint.com/:x:/g/personal/adines_unirioja_es/ESqVBUo4UzNDu_zF_oxNA9cBH8kUC1hvCq8e009d_OyAFQ?download=1 -O train.csv"
      ],
      "execution_count": null,
      "outputs": []
    },
    {
      "cell_type": "markdown",
      "metadata": {
        "id": "wDdx-BxzpvP0"
      },
      "source": [
        "Creamos la estructura de directorios"
      ]
    },
    {
      "cell_type": "code",
      "metadata": {
        "id": "RXVLchqDnjav"
      },
      "source": [
        "os.makedirs('melanoma/train/0')\n",
        "os.makedirs('melanoma/train/1')\n",
        "os.makedirs('melanoma/valid/0')\n",
        "os.makedirs('melanoma/valid/1')"
      ],
      "execution_count": null,
      "outputs": []
    },
    {
      "cell_type": "markdown",
      "metadata": {
        "id": "egDco3eDpyKs"
      },
      "source": [
        "Ordenamos las imágenes en cada directorio"
      ]
    },
    {
      "cell_type": "code",
      "metadata": {
        "id": "5ZveW1uarOy1"
      },
      "source": [
        "path='train'"
      ],
      "execution_count": null,
      "outputs": []
    },
    {
      "cell_type": "code",
      "metadata": {
        "id": "tQ0qFJS4dvwF"
      },
      "source": [
        "with open('train.csv') as csvfile:\n",
        "  reader = csv.DictReader(csvfile)\n",
        "  for row in reader:\n",
        "    shutil.move(path+os.sep+row['image_name']+'.jpg','melanoma/train/'+str(row['target']))"
      ],
      "execution_count": null,
      "outputs": []
    },
    {
      "cell_type": "markdown",
      "metadata": {
        "id": "Kl_6ebUIp3K8"
      },
      "source": [
        "Realizamos una separación 80-20 para validación"
      ]
    },
    {
      "cell_type": "code",
      "metadata": {
        "id": "XHmOKHS4ogMN"
      },
      "source": [
        "classesPaths=sorted(glob.glob('melanoma/train/*'))\n",
        "classes=[pt.split(os.sep)[-1] for pt in classesPaths]\n",
        "for cl in classes:\n",
        "  ims=sorted(glob.glob('melanoma/train/'+cl+'/*'))\n",
        "  print(int(len(ims)*0.2))\n",
        "  for i in range(int(len(ims)*0.2)):\n",
        "    images=sorted(glob.glob('melanoma/train/'+cl+'/*'))\n",
        "    j=random.randint(0,len(images)-1)\n",
        "    print(images[j])\n",
        "    shutil.move(images[j],'melanoma/valid/'+cl)"
      ],
      "execution_count": null,
      "outputs": []
    },
    {
      "cell_type": "code",
      "metadata": {
        "id": "eDC5BEq8zLh6"
      },
      "source": [
        "!rm -r test"
      ],
      "execution_count": null,
      "outputs": []
    },
    {
      "cell_type": "code",
      "metadata": {
        "id": "kHwK2Nygzcmr"
      },
      "source": [
        "!zip -r melanoma.zip 'melanoma/'"
      ],
      "execution_count": null,
      "outputs": []
    }
  ]
}